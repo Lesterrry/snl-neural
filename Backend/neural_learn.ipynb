{
  "nbformat": 4,
  "nbformat_minor": 0,
  "metadata": {
    "kernelspec": {
      "display_name": "Python 3",
      "language": "python",
      "name": "python3"
    },
    "language_info": {
      "codemirror_mode": {
        "name": "ipython",
        "version": 3
      },
      "file_extension": ".py",
      "mimetype": "text/x-python",
      "name": "python",
      "nbconvert_exporter": "python",
      "pygments_lexer": "ipython3",
      "version": "3.7.6"
    },
    "colab": {
      "name": "neural_learn",
      "provenance": [],
      "collapsed_sections": []
    },
    "accelerator": "GPU"
  },
  "cells": [
    {
      "cell_type": "markdown",
      "metadata": {
        "id": "fio4WW8OCLo1"
      },
      "source": [
        "# Neural network training\n",
        "\n",
        "\n",
        "```\n",
        "COPYLEFT LESTERRRY, 2020\n",
        "```\n",
        "\n"
      ]
    },
    {
      "cell_type": "code",
      "metadata": {
        "id": "nWWo7QdtSWsw"
      },
      "source": [
        "#This cell connects GDrive to Colab. You can either use this or upload files manually.\n",
        "##################\n",
        "\n",
        "from google.colab import drive\n",
        "drive.mount('/content/drive')"
      ],
      "execution_count": null,
      "outputs": []
    },
    {
      "cell_type": "code",
      "metadata": {
        "id": "f-YLQhIlVe5p"
      },
      "source": [
        "#This cell is used for configuration\n",
        "##################\n",
        "\n",
        "from collections import Counter\n",
        "import torch\n",
        "import torch.nn as nn\n",
        "import torch.nn.functional as F\n",
        "import numpy as np\n",
        "import pickle\n",
        "import time\n",
        "\n",
        "TRAIN_TEXT_FILE_PATH = 'drive/My Drive/colab/textbook.txt' #Path to your textbook file\n",
        "HIDDEN_SIZE = 256 #Adjust this to make training more complicated. This value should be as big as the textbook.\n",
        "LAYERS = 3 #Number of LSTM layers. Try adjusting too.\n",
        "DEVICE = torch.device('cuda') #Device which will be used while training.\n",
        "#Check whether the machine you're going to further launch 'serve.py' script supports CUDA, and decide which one to choose.\n",
        "#To use CUDA in Colab, make sure you've enabled Hardware GPU Acceleration in IDE settings.\n",
        "\n",
        "MODEL_PATH = 'drive/My Drive/colab/model3.bin' #Place to save/fetch your model to/from.\n"
      ],
      "execution_count": null,
      "outputs": []
    },
    {
      "cell_type": "code",
      "metadata": {
        "id": "XL2UiwkTCLo_"
      },
      "source": [
        "#This cell sets everything up. Make sure 'textbook.txt' is in executable dir and all libraries are downloaded\n",
        "##################\n",
        "\n",
        "with open(TRAIN_TEXT_FILE_PATH) as text_file:\n",
        "    text_sample = text_file.readlines()\n",
        "text_sample = ' '.join(text_sample)\n",
        "\n",
        "def text_to_seq(text_sample):\n",
        "    char_counts = Counter(text_sample)\n",
        "    char_counts = sorted(char_counts.items(), key = lambda x: x[1], reverse=True)\n",
        "\n",
        "    sorted_chars = [char for char, _ in char_counts]\n",
        "    print(sorted_chars)\n",
        "    char_to_idx = {char: index for index, char in enumerate(sorted_chars)}\n",
        "    idx_to_char = {v: k for k, v in char_to_idx.items()}\n",
        "    sequence = np.array([char_to_idx[char] for char in text_sample])\n",
        "    print(f'CtI: {char_to_idx}')\n",
        "    print(f'ItC: {idx_to_char}')\n",
        "    return sequence, char_to_idx, idx_to_char\n",
        "\n",
        "sequence, char_to_idx, idx_to_char = text_to_seq(text_sample)\n",
        "\n",
        "SEQ_LEN = 256\n",
        "BATCH_SIZE = 16\n",
        "\n",
        "def get_batch(sequence):\n",
        "    trains = []\n",
        "    targets = []\n",
        "    for _ in range(BATCH_SIZE):\n",
        "        batch_start = np.random.randint(0, len(sequence) - SEQ_LEN)\n",
        "        chunk = sequence[batch_start: batch_start + SEQ_LEN]\n",
        "        train = torch.LongTensor(chunk[:-1]).view(-1, 1)\n",
        "        target = torch.LongTensor(chunk[1:]).view(-1, 1)\n",
        "        trains.append(train)\n",
        "        targets.append(target)\n",
        "    return torch.stack(trains, dim=0), torch.stack(targets, dim=0)\n",
        "    \n",
        "def evaluate(model, char_to_idx, idx_to_char, start_text=' ', prediction_len=200, temp=0.3):\n",
        "    hidden = model.init_hidden()\n",
        "    idx_input = [char_to_idx[char] for char in start_text]\n",
        "    train = torch.LongTensor(idx_input).view(-1, 1, 1).to(device)\n",
        "    predicted_text = start_text\n",
        "    \n",
        "    _, hidden = model(train, hidden)\n",
        "        \n",
        "    inp = train[-1].view(-1, 1, 1)\n",
        "    \n",
        "    for i in range(prediction_len):\n",
        "        output, hidden = model(inp.to(device), hidden)\n",
        "        output_logits = output.cpu().data.view(-1)\n",
        "        p_next = F.softmax(output_logits / temp, dim=-1).detach().cpu().data.numpy()        \n",
        "        top_index = np.random.choice(len(char_to_idx), p=p_next)\n",
        "        inp = torch.LongTensor([top_index]).view(-1, 1, 1).to(device)\n",
        "        predicted_char = idx_to_char[top_index]\n",
        "        predicted_text += predicted_char\n",
        "    \n",
        "    return predicted_text\n",
        "\n",
        "class TextRNN(nn.Module):\n",
        "    \n",
        "    def __init__(self, input_size, hidden_size, embedding_size, n_layers=1):\n",
        "        super(TextRNN, self).__init__()\n",
        "        \n",
        "        self.input_size = input_size\n",
        "        self.hidden_size = hidden_size\n",
        "        self.embedding_size = embedding_size\n",
        "        self.n_layers = n_layers\n",
        "\n",
        "        self.encoder = nn.Embedding(self.input_size, self.embedding_size)\n",
        "        self.lstm = nn.LSTM(self.embedding_size, self.hidden_size, self.n_layers)\n",
        "        self.dropout = nn.Dropout(0.2)\n",
        "        self.fc = nn.Linear(self.hidden_size, self.input_size)\n",
        "        \n",
        "    def forward(self, x, hidden):\n",
        "        x = self.encoder(x).squeeze(2)\n",
        "        out, (ht1, ct1) = self.lstm(x, hidden)\n",
        "        out = self.dropout(out)\n",
        "        x = self.fc(out)\n",
        "        return x, (ht1, ct1)\n",
        "    \n",
        "    def init_hidden(self, batch_size=1):\n",
        "        return (torch.zeros(self.n_layers, batch_size, self.hidden_size, requires_grad=True).to(device),\n",
        "               torch.zeros(self.n_layers, batch_size, self.hidden_size, requires_grad=True).to(device))"
      ],
      "execution_count": null,
      "outputs": []
    },
    {
      "cell_type": "code",
      "metadata": {
        "id": "Idl7K8kwCLpR"
      },
      "source": [
        "#This cell launches learning process. Stop it whenever the Loss Rate value stops decreasing.\n",
        "##################\n",
        "\n",
        "#WARNING: DO NOT stop code execution until permitted so, or the model may be damaged.\n",
        "\n",
        "device = DEVICE\n",
        "model = TextRNN(input_size=len(idx_to_char), hidden_size=HIDDEN_SIZE, embedding_size=128, n_layers=LAYERS)\n",
        "model.to(device)\n",
        "\n",
        "i = 1\n",
        "criterion = nn.CrossEntropyLoss()\n",
        "optimizer = torch.optim.Adam(model.parameters(), lr=1e-2, amsgrad=True)\n",
        "scheduler = torch.optim.lr_scheduler.ReduceLROnPlateau(\n",
        "    optimizer, \n",
        "    patience=5, \n",
        "    verbose=True, \n",
        "    factor=0.5\n",
        ")\n",
        "\n",
        "n_epochs = 50000\n",
        "loss_avg = []\n",
        "\n",
        "for epoch in range(n_epochs):\n",
        "    model.train()\n",
        "    train, target = get_batch(sequence)\n",
        "    train = train.permute(1, 0, 2).to(device)\n",
        "    target = target.permute(1, 0, 2).to(device)\n",
        "    hidden = model.init_hidden(BATCH_SIZE)\n",
        "\n",
        "    output, hidden = model(train, hidden)\n",
        "    loss = criterion(output.permute(1, 2, 0), target.squeeze(-1).permute(1, 0))\n",
        "    \n",
        "    loss.backward()\n",
        "    optimizer.step()\n",
        "    optimizer.zero_grad()\n",
        "    \n",
        "    loss_avg.append(loss.item())\n",
        "    if len(loss_avg) >= 50:\n",
        "        i += 1\n",
        "        mean_loss = np.mean(loss_avg)\n",
        "        print(f'LR: {mean_loss}')\n",
        "        scheduler.step(mean_loss)\n",
        "        loss_avg = []\n",
        "        model.eval()\n",
        "        predicted_text = evaluate(model, char_to_idx, idx_to_char)\n",
        "        print(predicted_text)\n",
        "        if i == 5:\n",
        "          print(\"You now have 5 seconds to stop execution\")\n",
        "          time.sleep(5)\n",
        "          print(\"DO NOT stop execution until further notice\")\n",
        "          i = 0"
      ],
      "execution_count": null,
      "outputs": []
    },
    {
      "cell_type": "code",
      "metadata": {
        "id": "KCy7ckGXH69P"
      },
      "source": [
        "#This cell saves model to a binary file for further use\n",
        "##################\n",
        "\n",
        "file = open(MODEL_PATH, \"wb\")\n",
        "torch.save(model, file)\n",
        "file.close()"
      ],
      "execution_count": null,
      "outputs": []
    },
    {
      "cell_type": "code",
      "metadata": {
        "id": "bTUaFIE2LyWr"
      },
      "source": [
        "#This cell converts model for a specific device type\n",
        "##################\n",
        "\n",
        "model_out = \"drive/My Drive/colab/model3.bin\" #Output file path\n",
        "conv_device = torch.device('cpu') #Output device\n",
        "\n",
        "file = open(MODEL_PATH, \"rb\")\n",
        "mod = torch.load(file)\n",
        "file.close()\n",
        "mod.eval()\n",
        "mod.to(conv_device)\n",
        "file = open(model_out, \"wb\")\n",
        "torch.save(model, file)\n",
        "file.close()"
      ],
      "execution_count": null,
      "outputs": []
    },
    {
      "cell_type": "code",
      "metadata": {
        "id": "G2Bnr_GuNZHd"
      },
      "source": [
        "#This cell should be used for testing saved model\n",
        "file = open(MODEL_PATH, \"rb\")\n",
        "mod = torch.load(file)\n",
        "file.close()\n",
        "mod.eval()\n",
        "print(evaluate(\n",
        "    mod,\n",
        "    char_to_idx,\n",
        "    idx_to_char,\n",
        "    temp=0.3,\n",
        "    prediction_len=200,\n",
        "    start_text=' ',\n",
        "    )\n",
        ")"
      ],
      "execution_count": null,
      "outputs": []
    }
  ]
}
